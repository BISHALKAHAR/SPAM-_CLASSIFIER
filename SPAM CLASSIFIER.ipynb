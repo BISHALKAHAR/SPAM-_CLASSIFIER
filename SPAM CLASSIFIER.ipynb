{
 "cells": [
  {
   "cell_type": "code",
   "execution_count": 227,
   "id": "b646d81d",
   "metadata": {},
   "outputs": [],
   "source": [
    "import os\n",
    "import nltk\n",
    "import string\n",
    "import numpy as np\n",
    "import pandas as pd\n",
    "import matplotlib.pyplot as plt\n",
    "from numpy.linalg import inv\n",
    "from numpy.linalg import norm\n",
    "from numpy.linalg import eig\n",
    "import math\n",
    "import random\n",
    "import sys\n",
    "import seaborn as sns\n",
    "from random import sample\n",
    "from nltk.corpus import stopwords\n",
    "from sklearn.feature_extraction.text import CountVectorizer\n",
    "from sortedcontainers import SortedList, SortedSet, SortedDict"
   ]
  },
  {
   "cell_type": "markdown",
   "id": "7674df98",
   "metadata": {},
   "source": [
    "# MAKING THE SYSTEM PATH FOR READING THE SPAM AND HAM"
   ]
  },
  {
   "cell_type": "code",
   "execution_count": 228,
   "id": "3acf0c9b",
   "metadata": {},
   "outputs": [],
   "source": [
    "dataset_spam=\"C:/Users/bisha/ASSIGNMENT 3/dataset/dataset/spam\""
   ]
  },
  {
   "cell_type": "code",
   "execution_count": 229,
   "id": "00851df5",
   "metadata": {},
   "outputs": [],
   "source": [
    "dataset_ham=\"C:/Users/bisha/ASSIGNMENT 3/dataset/dataset/ham\""
   ]
  },
  {
   "cell_type": "code",
   "execution_count": 289,
   "id": "92763687",
   "metadata": {},
   "outputs": [],
   "source": [
    "test=\"C:/Users/bisha/ASSIGNMENT 3/dataset/dataset/test\"\n"
   ]
  },
  {
   "cell_type": "markdown",
   "id": "441815fb",
   "metadata": {},
   "source": [
    "# COLLECTIONS OF MAILS"
   ]
  },
  {
   "cell_type": "code",
   "execution_count": 267,
   "id": "16a451c6",
   "metadata": {},
   "outputs": [],
   "source": [
    "spam = []\n",
    "ham = []\n",
    "document=[]"
   ]
  },
  {
   "cell_type": "code",
   "execution_count": null,
   "id": "f4a86fb5",
   "metadata": {},
   "outputs": [],
   "source": []
  },
  {
   "cell_type": "markdown",
   "id": "bb3288db",
   "metadata": {},
   "source": [
    "# CHANGE THE DIRECTORY FOR READING THE SPAM DATA AND ITERATE THROUGH ALL THE FILE OF SPAM"
   ]
  },
  {
   "cell_type": "code",
   "execution_count": 231,
   "id": "5b814fb2",
   "metadata": {},
   "outputs": [],
   "source": [
    "def read_text_file(file_path, storage):\n",
    "    f = open(file_path, errors=\"ignore\")\n",
    "    storage.append(f.read())"
   ]
  },
  {
   "cell_type": "code",
   "execution_count": 232,
   "id": "3b7f3e7c",
   "metadata": {},
   "outputs": [],
   "source": [
    "def read_spam_data():\n",
    "    \n",
    "    os.chdir(dataset_spam)\n",
    "    for file in os.listdir():\n",
    "            read_text_file(file, spam)"
   ]
  },
  {
   "cell_type": "markdown",
   "id": "5a309952",
   "metadata": {},
   "source": [
    "# CHANGE THE DIRECTORY FOR READING THE HAM DATA AND  ITERATE THROUGH ALL THE FILE OF HAM"
   ]
  },
  {
   "cell_type": "code",
   "execution_count": 233,
   "id": "4fea6618",
   "metadata": {},
   "outputs": [],
   "source": [
    "def read_ham_data():\n",
    "          \n",
    "    os.chdir(dataset_ham)\n",
    "    for file in os.listdir():\n",
    "            read_text_file(file, ham)"
   ]
  },
  {
   "cell_type": "code",
   "execution_count": null,
   "id": "4a66ccdb",
   "metadata": {},
   "outputs": [],
   "source": []
  },
  {
   "cell_type": "code",
   "execution_count": null,
   "id": "74955b4e",
   "metadata": {},
   "outputs": [],
   "source": []
  },
  {
   "cell_type": "markdown",
   "id": "7d38ff87",
   "metadata": {},
   "source": [
    "# TEXT CLEANING FOR REMOVING THINGS LIKE PUNCTUATION ETC."
   ]
  },
  {
   "cell_type": "code",
   "execution_count": 234,
   "id": "59d92b5a",
   "metadata": {},
   "outputs": [],
   "source": [
    "#text cleaning   \n",
    "def punctuation_and_stopwords_remove(email):\n",
    "    \n",
    "    email_no_punctuation = [ch for ch in email if ch not in string.punctuation]\n",
    "    email_no_punctuation_no_stopwords = [word.lower() for word in email_no_punctuation if word.lower() not in stopwords.words(\"english\")]\n",
    "    email_no_punctuation_no_stopwords_isalpha =  [word.lower() for word in email_no_punctuation_no_stopwords if (word.isalpha() == True)]\n",
    "    return email_no_punctuation_no_stopwords_isalpha\n",
    "    "
   ]
  },
  {
   "cell_type": "markdown",
   "id": "225d7f60",
   "metadata": {},
   "source": [
    "# CLEANING THE  DATA"
   ]
  },
  {
   "cell_type": "code",
   "execution_count": 235,
   "id": "e29a5b85",
   "metadata": {},
   "outputs": [],
   "source": [
    "def clean_data():\n",
    "    for i in range(len(spam)):\n",
    "        nltk_tokens =  nltk.word_tokenize(spam[i])\n",
    "        spam[i] = punctuation_and_stopwords_remove(nltk_tokens)\n",
    "    \n",
    "    for i in range(len(ham)):\n",
    "        nltk_tokens =  nltk.word_tokenize(ham[i])\n",
    "        ham[i] = punctuation_and_stopwords_remove(nltk_tokens)\n"
   ]
  },
  {
   "cell_type": "markdown",
   "id": "e88f8496",
   "metadata": {},
   "source": [
    "# CREATING A COMMON COLLECTION OF ALL SPAM AND HAM DATA IN A COMMON DOCUMENTS NAMED VECTORIZER"
   ]
  },
  {
   "cell_type": "code",
   "execution_count": 236,
   "id": "bf6ff5d4",
   "metadata": {},
   "outputs": [],
   "source": [
    "def create_vectorizer():\n",
    "    \n",
    "    for i in range(len(spam)):\n",
    "        document.append(\" \".join(spam[i]))\n",
    "            \n",
    "    for i in range(len(ham)):\n",
    "        document.append(\" \".join(ham[i]))"
   ]
  },
  {
   "cell_type": "code",
   "execution_count": 268,
   "id": "4add7b39",
   "metadata": {},
   "outputs": [],
   "source": [
    "read_spam_data()\n",
    "read_ham_data()\n",
    "clean_data()\n",
    "create_vectorizer()"
   ]
  },
  {
   "cell_type": "code",
   "execution_count": 269,
   "id": "5913d3a1",
   "metadata": {},
   "outputs": [
    {
     "data": {
      "text/plain": [
       "5172"
      ]
     },
     "execution_count": 269,
     "metadata": {},
     "output_type": "execute_result"
    }
   ],
   "source": [
    "len(document)"
   ]
  },
  {
   "cell_type": "markdown",
   "id": "8efd6c26",
   "metadata": {},
   "source": [
    "# ITS BASICALLY COUNTING THE WORDS"
   ]
  },
  {
   "cell_type": "code",
   "execution_count": 270,
   "id": "05fb2aae",
   "metadata": {},
   "outputs": [],
   "source": [
    "vectorizer = CountVectorizer()\n",
    "vectorizer.fit(document)\n",
    "#print(\"Vocabulary: \", vectorizer.vocabulary_)\n",
    "header = vectorizer.vocabulary_.keys()\n",
    "header = list(header)\n",
    "vector = vectorizer.transform(document)\n",
    "\n",
    "X = vector.toarray()\n"
   ]
  },
  {
   "cell_type": "code",
   "execution_count": 271,
   "id": "8b6f04bb",
   "metadata": {},
   "outputs": [
    {
     "data": {
      "text/plain": [
       "(5172, 45611)"
      ]
     },
     "execution_count": 271,
     "metadata": {},
     "output_type": "execute_result"
    }
   ],
   "source": [
    "X.shape"
   ]
  },
  {
   "cell_type": "code",
   "execution_count": 272,
   "id": "6a46f9d6",
   "metadata": {},
   "outputs": [],
   "source": [
    "data_spam = 0\n",
    "data_ham = 0\n",
    "for i in range(len(spam)):\n",
    "    data_spam += X[i]"
   ]
  },
  {
   "cell_type": "code",
   "execution_count": 273,
   "id": "bf83a33f",
   "metadata": {},
   "outputs": [],
   "source": [
    "data_nonspam = 0\n",
    "for i in range(len(ham)):\n",
    "    data_nonspam += X[i + len(spam)]"
   ]
  },
  {
   "cell_type": "code",
   "execution_count": 274,
   "id": "b8d939ae",
   "metadata": {},
   "outputs": [],
   "source": [
    "data_spam = data_spam + np.ones(X.shape[1])\n",
    "data_nonspam = data_nonspam + np.ones(X.shape[1])\n",
    "data_spam = data_spam / (len(spam) + 1)\n",
    "data_nonspam = data_nonspam / (len(ham) + 1)\n",
    "data_spam = data_spam / sum(data_spam)\n",
    "data_nonspam = data_nonspam/sum(data_nonspam)"
   ]
  },
  {
   "cell_type": "code",
   "execution_count": 275,
   "id": "5803a804",
   "metadata": {},
   "outputs": [],
   "source": [
    "p_ml = len(ham)/(len(spam)+len(ham))\n",
    "q_ml = 1 - p_ml"
   ]
  },
  {
   "cell_type": "markdown",
   "id": "c5c2b397",
   "metadata": {},
   "source": [
    "# HERE WE ARE BUILDING THE SEPERATOR"
   ]
  },
  {
   "cell_type": "code",
   "execution_count": 276,
   "id": "4e5ac73d",
   "metadata": {},
   "outputs": [],
   "source": [
    "s = np.zeros(X.shape[1])"
   ]
  },
  {
   "cell_type": "code",
   "execution_count": 277,
   "id": "d89dd5e5",
   "metadata": {},
   "outputs": [],
   "source": [
    "for i in range(X.shape[1]):\n",
    "    nom = data_spam[i]*(1-data_nonspam[i])\n",
    "    denom = data_nonspam[i] * (1 - data_spam[i])\n",
    "    s[i] = math.log(nom/denom)"
   ]
  },
  {
   "cell_type": "markdown",
   "id": "0f35194f",
   "metadata": {},
   "source": [
    "# HERE WE ARE BUILDING THE BIAS TERM"
   ]
  },
  {
   "cell_type": "code",
   "execution_count": 278,
   "id": "538698ee",
   "metadata": {},
   "outputs": [],
   "source": [
    "bias_term = math.log(p_ml/q_ml)\n",
    "for i in range(X.shape[1]):\n",
    "    bias_term += math.log((1 - data_spam[i])/(1 - data_nonspam[i]))  \n"
   ]
  },
  {
   "cell_type": "code",
   "execution_count": 279,
   "id": "658dada0",
   "metadata": {},
   "outputs": [],
   "source": [
    "decision = []"
   ]
  },
  {
   "cell_type": "code",
   "execution_count": 280,
   "id": "ce26ea2c",
   "metadata": {},
   "outputs": [
    {
     "data": {
      "text/plain": [
       "0"
      ]
     },
     "execution_count": 280,
     "metadata": {},
     "output_type": "execute_result"
    }
   ],
   "source": [
    "len(decision)"
   ]
  },
  {
   "cell_type": "code",
   "execution_count": 281,
   "id": "e22dbfe6",
   "metadata": {},
   "outputs": [],
   "source": [
    "y = []\n",
    "for i in range(len(spam)):\n",
    "    y.append(1)\n",
    "for i in range(len(ham)):\n",
    "    y.append(0)"
   ]
  },
  {
   "cell_type": "code",
   "execution_count": 282,
   "id": "bd0bc341",
   "metadata": {},
   "outputs": [],
   "source": [
    "for i in range(X.shape[0]):\n",
    "    d = np.matmul(s.T, (X[i]/sum(X[i]))) + bias\n",
    "    if(d > 0):\n",
    "        decision.append(1)\n",
    "    else:\n",
    "        decision.append(0)"
   ]
  },
  {
   "cell_type": "code",
   "execution_count": 283,
   "id": "9984416e",
   "metadata": {},
   "outputs": [
    {
     "data": {
      "text/plain": [
       "2"
      ]
     },
     "execution_count": 283,
     "metadata": {},
     "output_type": "execute_result"
    }
   ],
   "source": [
    "len(X.shape)"
   ]
  },
  {
   "cell_type": "code",
   "execution_count": 284,
   "id": "3828423b",
   "metadata": {},
   "outputs": [
    {
     "data": {
      "text/plain": [
       "3672"
      ]
     },
     "execution_count": 284,
     "metadata": {},
     "output_type": "execute_result"
    }
   ],
   "source": [
    "len(spam)\n",
    "len(ham)"
   ]
  },
  {
   "cell_type": "code",
   "execution_count": 285,
   "id": "a2474feb",
   "metadata": {},
   "outputs": [],
   "source": [
    "count = 0\n",
    "for i in range(len(decision)):\n",
    "    if(decision[i] != y[i]):\n",
    "        count += 1"
   ]
  },
  {
   "cell_type": "markdown",
   "id": "4777d876",
   "metadata": {},
   "source": [
    "# FINDING AND PRINTING THE ACCURACY OF TRAINING DATA"
   ]
  },
  {
   "cell_type": "code",
   "execution_count": 287,
   "id": "f97ca494",
   "metadata": {},
   "outputs": [
    {
     "name": "stdout",
     "output_type": "stream",
     "text": [
      "training accuracy 98.76256767208044 %\n"
     ]
    }
   ],
   "source": [
    "accuracy = (X.shape[0]-count)/X.shape[0]\n",
    "print('training accuracy', accuracy * 100, \"%\")  "
   ]
  },
  {
   "cell_type": "code",
   "execution_count": 290,
   "id": "2b92c7f7",
   "metadata": {},
   "outputs": [],
   "source": [
    "os.chdir(test) \n",
    "test_mail_data = []\n",
    "test_mail_filename = []"
   ]
  },
  {
   "cell_type": "markdown",
   "id": "c6fef1e4",
   "metadata": {},
   "source": [
    "# READING THE TEST MAIL"
   ]
  },
  {
   "cell_type": "code",
   "execution_count": 291,
   "id": "4f81212a",
   "metadata": {},
   "outputs": [],
   "source": [
    "for file in os.listdir():\n",
    "    test_mail_filename.append(file)\n",
    "    read_text_file(file, test_mail_data)"
   ]
  },
  {
   "cell_type": "markdown",
   "id": "32056ee0",
   "metadata": {},
   "source": [
    "# CLEANING THE TEST MAIL"
   ]
  },
  {
   "cell_type": "code",
   "execution_count": 293,
   "id": "f08c87d3",
   "metadata": {},
   "outputs": [],
   "source": [
    "for i in range(len(test_mail_data)):\n",
    "        nltk_tokens =  nltk.word_tokenize(test_mail_data[i])\n",
    "        test_mail_data[i] = punctuation_and_stopwords_remove(nltk_tokens)\n",
    "        test_mail_data[i] = \" \".join(test_mail_data[i])"
   ]
  },
  {
   "cell_type": "markdown",
   "id": "516f5da2",
   "metadata": {},
   "source": [
    "# CONVERTING EMAIL INTO A VECTOR USING THE SAME VECTORIZING INSTANCE"
   ]
  },
  {
   "cell_type": "code",
   "execution_count": 294,
   "id": "94af6383",
   "metadata": {},
   "outputs": [],
   "source": [
    "test_vector = vectorizer.transform(test_mail_data).toarray()\n",
    "test_predict = []"
   ]
  },
  {
   "cell_type": "code",
   "execution_count": 297,
   "id": "779b88ba",
   "metadata": {},
   "outputs": [],
   "source": [
    "for i in range(len(test_vector)):\n",
    "    d = np.matmul(s.T, (test_vector[i]/sum(test_vector[i]))) + bias\n",
    "    if(d > 0):\n",
    "        test_predict.append(1)\n",
    "    else:\n",
    "        test_predict.append(0)"
   ]
  },
  {
   "cell_type": "code",
   "execution_count": 298,
   "id": "59c27c47",
   "metadata": {},
   "outputs": [
    {
     "name": "stdout",
     "output_type": "stream",
     "text": [
      "email1.txt is predicted as spam\n",
      "email10.txt is predicted as non-spam\n",
      "email11.txt is predicted as non-spam\n",
      "email2.txt is predicted as non-spam\n",
      "email3.txt is predicted as spam\n",
      "email4.txt is predicted as spam\n",
      "email5.txt is predicted as spam\n",
      "email6.txt is predicted as spam\n",
      "email7.txt is predicted as spam\n",
      "email8.txt is predicted as spam\n",
      "email9.txt is predicted as non-spam\n"
     ]
    }
   ],
   "source": [
    "for i in range(len(test_predict)):\n",
    "    res = ''\n",
    "    if(test_predict[i] == 1):\n",
    "        res = 'spam'\n",
    "    else: \n",
    "        res = 'non-spam'\n",
    "    print(test_mail_filename[i], 'is predicted as', res)"
   ]
  },
  {
   "cell_type": "code",
   "execution_count": null,
   "id": "1702e23b",
   "metadata": {},
   "outputs": [],
   "source": []
  }
 ],
 "metadata": {
  "kernelspec": {
   "display_name": "Python 3 (ipykernel)",
   "language": "python",
   "name": "python3"
  },
  "language_info": {
   "codemirror_mode": {
    "name": "ipython",
    "version": 3
   },
   "file_extension": ".py",
   "mimetype": "text/x-python",
   "name": "python",
   "nbconvert_exporter": "python",
   "pygments_lexer": "ipython3",
   "version": "3.10.7"
  }
 },
 "nbformat": 4,
 "nbformat_minor": 5
}
